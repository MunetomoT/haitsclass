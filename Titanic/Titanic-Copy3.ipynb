{
 "cells": [
  {
   "cell_type": "code",
   "execution_count": 309,
   "metadata": {},
   "outputs": [
    {
     "data": {
      "text/plain": [
       "PassengerId      0\n",
       "Survived         0\n",
       "Pclass           0\n",
       "Name             0\n",
       "Sex              0\n",
       "Age            177\n",
       "SibSp            0\n",
       "Parch            0\n",
       "Ticket           0\n",
       "Fare             0\n",
       "Cabin          687\n",
       "Embarked         2\n",
       "dtype: int64"
      ]
     },
     "execution_count": 309,
     "metadata": {},
     "output_type": "execute_result"
    }
   ],
   "source": [
    "import pandas as pd\n",
    "import numpy as np\n",
    "titanic = pd.read_csv(\"train.csv\")\n",
    "titanic.isnull().sum()"
   ]
  },
  {
   "cell_type": "code",
   "execution_count": 310,
   "metadata": {},
   "outputs": [
    {
     "data": {
      "text/plain": [
       "(177, 12)"
      ]
     },
     "execution_count": 310,
     "metadata": {},
     "output_type": "execute_result"
    }
   ],
   "source": [
    "titanic_ = pd.DataFrame(titanic)\n",
    "titanic_ = titanic_[pd.isnull(titanic_['Age'])]\n",
    "titanic_.isnull().sum()\n",
    "titanic_.shape"
   ]
  },
  {
   "cell_type": "code",
   "execution_count": 311,
   "metadata": {},
   "outputs": [
    {
     "data": {
      "text/plain": [
       "(714, 12)"
      ]
     },
     "execution_count": 311,
     "metadata": {},
     "output_type": "execute_result"
    }
   ],
   "source": [
    "titanic = titanic.dropna(subset=['Age'])\n",
    "y = titanic[\"Survived\"]\n",
    "X = titanic.loc[:,[\"Sex\", \"Age\", \"SibSp\", \"Parch\", \"Fare\"]]\n",
    "class_mapping = {'male': 0, 'female': 1}\n",
    "X['Sex'] = X['Sex'].map(class_mapping)\n",
    "titanic.shape"
   ]
  },
  {
   "cell_type": "code",
   "execution_count": 312,
   "metadata": {},
   "outputs": [
    {
     "data": {
      "text/plain": [
       "AdaBoostClassifier(algorithm='SAMME.R', base_estimator=None,\n",
       "          learning_rate=1.0, n_estimators=50, random_state=None)"
      ]
     },
     "execution_count": 312,
     "metadata": {},
     "output_type": "execute_result"
    }
   ],
   "source": [
    "from sklearn.preprocessing import StandardScaler\n",
    "scaler = StandardScaler()\n",
    "scaler.fit(X)\n",
    "X_std = scaler.transform(X)\n",
    "\n",
    "from sklearn.model_selection import train_test_split\n",
    "X_train, X_test, y_train, y_test = train_test_split(X_std, y, test_size=0.2, random_state=0)\n",
    "\n",
    "from sklearn.ensemble import AdaBoostClassifier\n",
    "tree_1 = AdaBoostClassifier()\n",
    "tree_1.fit(X_train, y_train)"
   ]
  },
  {
   "cell_type": "code",
   "execution_count": 313,
   "metadata": {},
   "outputs": [
    {
     "data": {
      "text/plain": [
       "0.81786339754816118"
      ]
     },
     "execution_count": 313,
     "metadata": {},
     "output_type": "execute_result"
    }
   ],
   "source": [
    "tree_1.score(X_train, y_train)"
   ]
  },
  {
   "cell_type": "code",
   "execution_count": 314,
   "metadata": {},
   "outputs": [
    {
     "data": {
      "text/plain": [
       "0.79720279720279719"
      ]
     },
     "execution_count": 314,
     "metadata": {},
     "output_type": "execute_result"
    }
   ],
   "source": [
    "tree_1.score(X_test, y_test)"
   ]
  },
  {
   "cell_type": "code",
   "execution_count": 315,
   "metadata": {},
   "outputs": [
    {
     "data": {
      "text/plain": [
       "5      50.0\n",
       "17     50.0\n",
       "19     50.0\n",
       "26     50.0\n",
       "28     50.0\n",
       "29     50.0\n",
       "31     50.0\n",
       "32     50.0\n",
       "36     50.0\n",
       "42     50.0\n",
       "45     50.0\n",
       "46     50.0\n",
       "47     50.0\n",
       "48     50.0\n",
       "55     50.0\n",
       "64     50.0\n",
       "65     50.0\n",
       "76     50.0\n",
       "77     50.0\n",
       "82     50.0\n",
       "87     50.0\n",
       "95     50.0\n",
       "101    50.0\n",
       "107    50.0\n",
       "109    50.0\n",
       "121    50.0\n",
       "126    50.0\n",
       "128    50.0\n",
       "140    50.0\n",
       "154    50.0\n",
       "       ... \n",
       "718    50.0\n",
       "727    50.0\n",
       "732    50.0\n",
       "738    50.0\n",
       "739    50.0\n",
       "740    50.0\n",
       "760    50.0\n",
       "766    50.0\n",
       "768    50.0\n",
       "773    50.0\n",
       "776    50.0\n",
       "778    50.0\n",
       "783    50.0\n",
       "790    50.0\n",
       "792    50.0\n",
       "793    50.0\n",
       "815    50.0\n",
       "825    50.0\n",
       "826    50.0\n",
       "828    50.0\n",
       "832    50.0\n",
       "837    50.0\n",
       "839    50.0\n",
       "846    50.0\n",
       "849    50.0\n",
       "859    50.0\n",
       "863    50.0\n",
       "868    50.0\n",
       "878    50.0\n",
       "888    50.0\n",
       "Name: Age, Length: 177, dtype: float64"
      ]
     },
     "execution_count": 315,
     "metadata": {},
     "output_type": "execute_result"
    }
   ],
   "source": [
    "titanic_['Age'] = titanic_['Age'].fillna(50)\n",
    "titanic_['Age']"
   ]
  },
  {
   "cell_type": "code",
   "execution_count": 316,
   "metadata": {},
   "outputs": [
    {
     "data": {
      "text/plain": [
       "0.33333333333333331"
      ]
     },
     "execution_count": 316,
     "metadata": {},
     "output_type": "execute_result"
    }
   ],
   "source": [
    "y_na = titanic_[\"Survived\"].values.reshape(177,1)\n",
    "X_na = titanic_.loc[:,[\"Sex\", \"Age\", \"SibSp\", \"Parch\", \"Fare\"]]\n",
    "class_mapping = {'male': 0, 'female': 1}\n",
    "X_na['Sex'] = X_na['Sex'].map(class_mapping)\n",
    "X_na\n",
    "tree_1.score(X_na, y_na)"
   ]
  },
  {
   "cell_type": "code",
   "execution_count": 317,
   "metadata": {},
   "outputs": [],
   "source": [
    "test = pd.read_csv(\"test.csv\")"
   ]
  },
  {
   "cell_type": "code",
   "execution_count": 294,
   "metadata": {},
   "outputs": [
    {
     "data": {
      "text/plain": [
       "PassengerId      0\n",
       "Pclass           0\n",
       "Name             0\n",
       "Sex              0\n",
       "Age              0\n",
       "SibSp            0\n",
       "Parch            0\n",
       "Ticket           0\n",
       "Fare             0\n",
       "Cabin          327\n",
       "Embarked         0\n",
       "dtype: int64"
      ]
     },
     "execution_count": 294,
     "metadata": {},
     "output_type": "execute_result"
    }
   ],
   "source": [
    "test['Age'] = test['Age'].fillna(0)\n",
    "test['Fare'] = test['Fare'].fillna(10.0)\n",
    "X_test = test.loc[:,[\"Sex\", \"Age\", \"SibSp\", \"Parch\", \"Fare\"]]\n",
    "X_test['Sex'] = X_test['Sex'].map(class_mapping)\n",
    "id_ = test.loc[:, \"PassengerId\"].values.reshape(418,1)\n",
    "test.isnull().sum()"
   ]
  },
  {
   "cell_type": "code",
   "execution_count": 295,
   "metadata": {},
   "outputs": [],
   "source": [
    "y_test = tree_1.predict(X_test).reshape(418,1)\n",
    "y_out = np.concatenate((id_, y_test), axis=1)"
   ]
  },
  {
   "cell_type": "code",
   "execution_count": 296,
   "metadata": {
    "collapsed": true
   },
   "outputs": [],
   "source": [
    "df = pd.DataFrame(y_out, columns=['PassengerId', 'Survived'])\n",
    "df.to_csv('titanic_submit.csv', index = False)"
   ]
  },
  {
   "cell_type": "code",
   "execution_count": null,
   "metadata": {
    "collapsed": true
   },
   "outputs": [],
   "source": []
  },
  {
   "cell_type": "code",
   "execution_count": null,
   "metadata": {
    "collapsed": true
   },
   "outputs": [],
   "source": []
  }
 ],
 "metadata": {
  "kernelspec": {
   "display_name": "Python 3",
   "language": "python",
   "name": "python3"
  },
  "language_info": {
   "codemirror_mode": {
    "name": "ipython",
    "version": 3
   },
   "file_extension": ".py",
   "mimetype": "text/x-python",
   "name": "python",
   "nbconvert_exporter": "python",
   "pygments_lexer": "ipython3",
   "version": "3.6.2"
  }
 },
 "nbformat": 4,
 "nbformat_minor": 2
}
